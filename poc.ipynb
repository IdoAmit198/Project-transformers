{
 "cells": [
  {
   "cell_type": "code",
   "execution_count": null,
   "metadata": {},
   "outputs": [
    {
     "ename": "",
     "evalue": "",
     "output_type": "error",
     "traceback": [
      "\u001b[1;31mRunning cells with 'trans-proj (Python 3.10.13)' requires the ipykernel package.\n",
      "\u001b[1;31mRun the following command to install 'ipykernel' into the Python environment. \n",
      "\u001b[1;31mCommand: 'conda install -n trans-proj ipykernel --update-deps --force-reinstall'"
     ]
    }
   ],
   "source": [
    "from FActScore.factscore.factscorer import FactScorer\n",
    "\n",
    "my_open_ai_key = \"a\"\n",
    "fs = FactScorer(openai_key=my_open_ai_key)\n",
    "\n",
    "# topics: list of strings (human entities used to generate bios)\n",
    "# generations: list of strings (model generations)\n",
    "# out = fs.get_score(topics, generations, gamma=10)\n",
    "# print (out[\"score\"]) # FActScore\n",
    "# print (out[\"init_score\"]) # FActScore w/o length penalty\n",
    "# print (out[\"respond_ratio\"]) # % of responding (not abstaining from answering)\n",
    "# print (out[\"num_facts_per_response\"]) # average number of atomic facts per response\n"
   ]
  }
 ],
 "metadata": {
  "kernelspec": {
   "display_name": "trans-proj",
   "language": "python",
   "name": "python3"
  },
  "language_info": {
   "name": "python",
   "version": "3.10.13"
  }
 },
 "nbformat": 4,
 "nbformat_minor": 2
}
